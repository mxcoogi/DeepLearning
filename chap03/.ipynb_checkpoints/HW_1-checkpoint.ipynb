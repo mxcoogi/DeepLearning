{
 "cells": [
  {
   "cell_type": "markdown",
   "id": "3c252bb4-a039-473c-83b6-dc142283b221",
   "metadata": {},
   "source": [
    "1. 크기가 10인 널 벡터를 생성하고 다섯번째 요소는 1로 설정하는 코드를 작성하라.\n",
    "\n",
    "힌트: np.zero(10) 함수 사용하기"
   ]
  },
  {
   "cell_type": "code",
   "execution_count": 56,
   "id": "37b9894e-4cd7-418f-8986-65863cc64c95",
   "metadata": {
    "tags": []
   },
   "outputs": [
    {
     "name": "stdout",
     "output_type": "stream",
     "text": [
      "[0. 0. 0. 0. 1. 0. 0. 0. 0. 0.]\n"
     ]
    }
   ],
   "source": [
    "import numpy as np\n",
    "vector = np.zeros(10)\n",
    "vector[4] = 1\n",
    "print(vector)"
   ]
  },
  {
   "cell_type": "markdown",
   "id": "ca56a8f6-f7df-47d4-9077-1becdf16eede",
   "metadata": {},
   "source": [
    "2. 10에서 19까지의 값을 가지는 1차원 배열을 생성하라.\n",
    "\n",
    "힌트: np.arrange()를 사용해본다."
   ]
  },
  {
   "cell_type": "code",
   "execution_count": 57,
   "id": "d9869910-34d3-4f99-b7e1-ce071d78bd6a",
   "metadata": {
    "tags": []
   },
   "outputs": [
    {
     "name": "stdout",
     "output_type": "stream",
     "text": [
      "[10 11 12 13 14 15 16 17 18 19]\n"
     ]
    }
   ],
   "source": [
    "array = np.arange(10, 20)\n",
    "print(array)"
   ]
  },
  {
   "cell_type": "markdown",
   "id": "de4ccc42-f228-4163-921e-f1d2bf5536bf",
   "metadata": {},
   "source": [
    "3. 0부터 9까지의 값으로 넘파이 1차원 배열을 채우고, 이 배열을 거꾸로 하는 문장을 작성하라.\n",
    "\n",
    "힌트: 슬라이싱 array[::-1]을 사용하면 배열의 요소들의 순서를 거꾸로 할 수 있다."
   ]
  },
  {
   "cell_type": "code",
   "execution_count": 58,
   "id": "3df10da3-3c5b-46cd-b396-2d5ed8ded3f3",
   "metadata": {
    "tags": []
   },
   "outputs": [
    {
     "name": "stdout",
     "output_type": "stream",
     "text": [
      "[0 1 2 3 4 5 6 7 8 9] [9 8 7 6 5 4 3 2 1 0]\n"
     ]
    }
   ],
   "source": [
    "array = np.arange(10)\n",
    "arr = array[::-1]\n",
    "print(array, arr)"
   ]
  },
  {
   "cell_type": "markdown",
   "id": "f9f5ef21-a9ec-47b9-9b76-6460b19b93df",
   "metadata": {},
   "source": [
    "4. 0부터 8까지의 값을 가지고 크기가 3X3인 행렬을 생성하라.\n",
    "\n",
    "힌트: reshape(3,3)을 넘파이 배열에 적용하기"
   ]
  },
  {
   "cell_type": "code",
   "execution_count": 59,
   "id": "7d1276a3-3b0e-4563-958a-12482934683f",
   "metadata": {
    "tags": []
   },
   "outputs": [
    {
     "name": "stdout",
     "output_type": "stream",
     "text": [
      "[[0 1 2]\n",
      " [3 4 5]\n",
      " [6 7 8]]\n"
     ]
    }
   ],
   "source": [
    "matrix = np.arange(9).reshape(3,3)\n",
    "print(matrix)"
   ]
  },
  {
   "cell_type": "markdown",
   "id": "0938525a-8cd9-4f30-bc13-23af3be0baf1",
   "metadata": {},
   "source": [
    "5. 난수로 채워진 3X3 넘파이 배열을 생성해보자.\n",
    "\n",
    "힌트: np.random.random()을 사용해보기"
   ]
  },
  {
   "cell_type": "code",
   "execution_count": 60,
   "id": "9e5094ad-9982-4bf4-a564-11c933e0f60f",
   "metadata": {
    "tags": []
   },
   "outputs": [
    {
     "data": {
      "text/plain": [
       "array([[0.14329665, 0.88602154, 0.31853741],\n",
       "       [0.14213467, 0.13462339, 0.19553636],\n",
       "       [0.1715976 , 0.73459024, 0.64383715]])"
      ]
     },
     "execution_count": 60,
     "metadata": {},
     "output_type": "execute_result"
    }
   ],
   "source": [
    "ran = np.random.random((3, 3))\n",
    "ran"
   ]
  },
  {
   "cell_type": "markdown",
   "id": "c8640181-b244-4ec8-80c5-ba9c2ebefc57",
   "metadata": {},
   "source": [
    "6. 임의의 값으로 10X10 배열을 만들고 최소값과 최대값을 찾아보자.\n",
    "\n",
    "힌트: np.random.random()과 min(), max()를 사용해본다"
   ]
  },
  {
   "cell_type": "code",
   "execution_count": 61,
   "id": "2a321531-e955-4374-8e10-c5fae1f1d5be",
   "metadata": {
    "tags": []
   },
   "outputs": [
    {
     "name": "stdout",
     "output_type": "stream",
     "text": [
      "0.011537712978949122 0.9837627237606965\n"
     ]
    }
   ],
   "source": [
    "ran = np.random.random((10,10))\n",
    "ran_min = ran.min()\n",
    "ran_max = ran.max()\n",
    "print(ran_min, ran_max)"
   ]
  },
  {
   "cell_type": "markdown",
   "id": "12d47a0f-bf6d-4521-859b-b57478b1f13c",
   "metadata": {},
   "source": [
    "7번. ﻿그림판으로 8X8 크기의 숫자 이미지를 그려서 본문의 파이썬 프로그램으로 인식해보자. ﻿(4점 만점)\n",
    "\n",
    "해당 문제 뜻: mnist.py의 knn 알고리즘으로 이미지 인식 결과 표시하기\n",
    "\n",
    "그림판으로 숫자 이미지를 그릴 때, 크기는 나중에 조절하셔도 됩니다. (코드에서 사이즈 조절을 하셔도 무방)\n",
    "\n",
    "힌트: 예제소스(mnist.ipynb) 활용해보기"
   ]
  },
  {
   "cell_type": "code",
   "execution_count": 92,
   "id": "e297f4ba-b101-4dbd-90a3-df6e6cf9deb5",
   "metadata": {
    "tags": []
   },
   "outputs": [
    {
     "ename": "ModuleNotFoundError",
     "evalue": "No module named 'cv2'",
     "output_type": "error",
     "traceback": [
      "\u001b[1;31m---------------------------------------------------------------------------\u001b[0m",
      "\u001b[1;31mModuleNotFoundError\u001b[0m                       Traceback (most recent call last)",
      "Cell \u001b[1;32mIn[92], line 8\u001b[0m\n\u001b[0;32m      2\u001b[0m \u001b[38;5;28;01mimport\u001b[39;00m \u001b[38;5;21;01mos\u001b[39;00m\n\u001b[0;32m      3\u001b[0m \u001b[38;5;124;03m\"\"\"img = Image.open('num.png')\u001b[39;00m\n\u001b[0;32m      4\u001b[0m \u001b[38;5;124;03mimg\u001b[39;00m\n\u001b[0;32m      5\u001b[0m \u001b[38;5;124;03mimg = img.resize((8, 8))\u001b[39;00m\n\u001b[0;32m      6\u001b[0m \u001b[38;5;124;03mimg\"\"\"\u001b[39;00m\n\u001b[1;32m----> 8\u001b[0m \u001b[38;5;28;01mimport\u001b[39;00m \u001b[38;5;21;01mcv2\u001b[39;00m \u001b[38;5;28;01mas\u001b[39;00m \u001b[38;5;21;01mcv\u001b[39;00m\n\u001b[0;32m     10\u001b[0m image \u001b[38;5;241m=\u001b[39m cv\u001b[38;5;241m.\u001b[39mimread(\u001b[38;5;124m'\u001b[39m\u001b[38;5;124mnum.png\u001b[39m\u001b[38;5;124m'\u001b[39m, cv\u001b[38;5;241m.\u001b[39mIMREAD_GRAYSCALE)\n\u001b[0;32m     12\u001b[0m image \u001b[38;5;241m=\u001b[39m cv\u001b[38;5;241m.\u001b[39mresize(image, (\u001b[38;5;241m8\u001b[39m, \u001b[38;5;241m8\u001b[39m))\n",
      "\u001b[1;31mModuleNotFoundError\u001b[0m: No module named 'cv2'"
     ]
    }
   ],
   "source": [
    "from PIL import Image\n",
    "import os\n",
    "\"\"\"img = Image.open('num.png')\n",
    "img\n",
    "img = img.resize((8, 8))\n",
    "img\"\"\"\n",
    "\n",
    "import cv2 as cv\n",
    "\n",
    "image = cv.imread('num.png', cv.IMREAD_GRAYSCALE)\n",
    "\n",
    "image = cv.resize(image, (8, 8))\n",
    "\n",
    "image = image.astype('float32')\n",
    "\n",
    "image = image.reshape(1, 64)\n",
    "\n",
    "image = 255-image\n",
    "\n",
    "image /= 255.0\n",
    "\n",
    "y_pred = knn.predict(image.reshape(1, 64))\n",
    "\n",
    "\n",
    "print(\"추정된 숫자=\", pred.argmax())\n"
   ]
  },
  {
   "cell_type": "code",
   "execution_count": null,
   "id": "23c82bae-cec7-4e61-bd2a-35c854f35124",
   "metadata": {},
   "outputs": [],
   "source": []
  }
 ],
 "metadata": {
  "kernelspec": {
   "display_name": "Python 3 (ipykernel)",
   "language": "python",
   "name": "python3"
  },
  "language_info": {
   "codemirror_mode": {
    "name": "ipython",
    "version": 3
   },
   "file_extension": ".py",
   "mimetype": "text/x-python",
   "name": "python",
   "nbconvert_exporter": "python",
   "pygments_lexer": "ipython3",
   "version": "3.11.5"
  }
 },
 "nbformat": 4,
 "nbformat_minor": 5
}
