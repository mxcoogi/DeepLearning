{
 "cells": [
  {
   "cell_type": "markdown",
   "id": "899c8cdc-273f-4f92-bdde-5f5ac875c749",
   "metadata": {},
   "source": [
    "제출 형식: ipynb 파일 또는 보고서 파일(pdf, word, hwp)\n",
    "\n",
    "11. 이번장에는 패션 아이템을 심층 신경망으로 분류하는 프로그램이 있다. 패션 아이템을 기본 MLP로 분류하는 프로그램을 작성하고 심층 신경망과 비교하여 보자. 성능이 얼마나 높아지는가? (10점 만점)\n",
    "\n",
    "\n",
    "힌트: 해당 문제의 뜻은 예전 예제 코드에서 사용한 기본 하이퍼파리미터들로 사용 시 성능이 어떻게 변화하는지 작성하라는 뜻입니다.\n",
    "\n",
    "활성화 함수를 모두 sigmoid, 그리고 최적화 기법(optimizier)를 sgd로 바꾸어보세요.﻿"
   ]
  },
  {
   "cell_type": "code",
   "execution_count": 76,
   "id": "f5a4515d-bc26-40fd-9b72-e8f09e4e771e",
   "metadata": {
    "tags": []
   },
   "outputs": [],
   "source": [
    "import numpy as np\n",
    "import tensorflow as tf\n",
    "import matplotlib.pyplot as plt\n",
    "from tensorflow.keras.layers import Input, Dense, Flatten, Dropout\n",
    "from tensorflow.keras.models import Model\n",
    "from tensorflow.keras.optimizers import SGD\n",
    "from keras.utils import to_categorical\n",
    "fashion_mnist = tf.keras.datasets.fashion_mnist\n",
    "(train_images, train_labels), (test_images, test_labels) = fashion_mnist.load_data()\n",
    "\n",
    "train_images = train_images/ 255.0\n",
    "test_images = test_images / 255.0"
   ]
  },
  {
   "cell_type": "code",
   "execution_count": 97,
   "id": "d8f384d8-cbd7-45c3-bbb4-33f1443ea3e8",
   "metadata": {
    "tags": []
   },
   "outputs": [
    {
     "name": "stdout",
     "output_type": "stream",
     "text": [
      "Epoch 1/5\n",
      "\u001b[1m469/469\u001b[0m \u001b[32m━━━━━━━━━━━━━━━━━━━━\u001b[0m\u001b[37m\u001b[0m \u001b[1m3s\u001b[0m 5ms/step - accuracy: 0.3799 - loss: 2.0876\n",
      "Epoch 2/5\n",
      "\u001b[1m469/469\u001b[0m \u001b[32m━━━━━━━━━━━━━━━━━━━━\u001b[0m\u001b[37m\u001b[0m \u001b[1m2s\u001b[0m 5ms/step - accuracy: 0.6814 - loss: 1.3682\n",
      "Epoch 3/5\n",
      "\u001b[1m469/469\u001b[0m \u001b[32m━━━━━━━━━━━━━━━━━━━━\u001b[0m\u001b[37m\u001b[0m \u001b[1m2s\u001b[0m 5ms/step - accuracy: 0.7151 - loss: 1.0792\n",
      "Epoch 4/5\n",
      "\u001b[1m469/469\u001b[0m \u001b[32m━━━━━━━━━━━━━━━━━━━━\u001b[0m\u001b[37m\u001b[0m \u001b[1m2s\u001b[0m 5ms/step - accuracy: 0.7299 - loss: 0.9333\n",
      "Epoch 5/5\n",
      "\u001b[1m469/469\u001b[0m \u001b[32m━━━━━━━━━━━━━━━━━━━━\u001b[0m\u001b[37m\u001b[0m \u001b[1m2s\u001b[0m 5ms/step - accuracy: 0.7403 - loss: 0.8463\n",
      "\u001b[1m313/313\u001b[0m \u001b[32m━━━━━━━━━━━━━━━━━━━━\u001b[0m\u001b[37m\u001b[0m \u001b[1m1s\u001b[0m 3ms/step - accuracy: 0.7434 - loss: 0.8146\n"
     ]
    }
   ],
   "source": [
    "inputs = Input(shape = (28,28))\n",
    "flatten = Flatten()(inputs)\n",
    "hidden1 = Dense(128, activation = 'sigmoid')(flatten)\n",
    "outputs = Dense(10, activation = 'sigmoid')(hidden1)\n",
    "model = Model(inputs=inputs, outputs=outputs)\n",
    "model.compile(optimizer='sgd', loss = 'sparse_categorical_crossentropy', metrics=['accuracy'])\n",
    "model.fit(train_images, train_labels, epochs=5, batch_size = 128)\n",
    "test_loss, mlp_test_acc = model.evaluate(test_images, test_labels)"
   ]
  },
  {
   "cell_type": "code",
   "execution_count": 98,
   "id": "c6d4eeb6-7f86-4f22-8322-157f9b2cf39d",
   "metadata": {
    "tags": []
   },
   "outputs": [
    {
     "name": "stdout",
     "output_type": "stream",
     "text": [
      "Epoch 1/5\n",
      "\u001b[1m1875/1875\u001b[0m \u001b[32m━━━━━━━━━━━━━━━━━━━━\u001b[0m\u001b[37m\u001b[0m \u001b[1m10s\u001b[0m 4ms/step - accuracy: 0.7763 - loss: 0.6406\n",
      "Epoch 2/5\n",
      "\u001b[1m1875/1875\u001b[0m \u001b[32m━━━━━━━━━━━━━━━━━━━━\u001b[0m\u001b[37m\u001b[0m \u001b[1m8s\u001b[0m 4ms/step - accuracy: 0.8623 - loss: 0.3832\n",
      "Epoch 3/5\n",
      "\u001b[1m1875/1875\u001b[0m \u001b[32m━━━━━━━━━━━━━━━━━━━━\u001b[0m\u001b[37m\u001b[0m \u001b[1m8s\u001b[0m 4ms/step - accuracy: 0.8745 - loss: 0.3411\n",
      "Epoch 4/5\n",
      "\u001b[1m1875/1875\u001b[0m \u001b[32m━━━━━━━━━━━━━━━━━━━━\u001b[0m\u001b[37m\u001b[0m \u001b[1m8s\u001b[0m 4ms/step - accuracy: 0.8838 - loss: 0.3133\n",
      "Epoch 5/5\n",
      "\u001b[1m1875/1875\u001b[0m \u001b[32m━━━━━━━━━━━━━━━━━━━━\u001b[0m\u001b[37m\u001b[0m \u001b[1m8s\u001b[0m 4ms/step - accuracy: 0.8927 - loss: 0.2919\n",
      "\u001b[1m313/313\u001b[0m \u001b[32m━━━━━━━━━━━━━━━━━━━━\u001b[0m\u001b[37m\u001b[0m \u001b[1m1s\u001b[0m 3ms/step - accuracy: 0.8769 - loss: 0.3432\n"
     ]
    }
   ],
   "source": [
    "inputs = Input(shape = (28,28))\n",
    "flatten = Flatten()(inputs)\n",
    "hidden1 = Dense(128, activation = 'relu')(flatten)\n",
    "outputs = Dense(10, activation = 'softmax')(hidden1)\n",
    "model = Model(inputs=inputs, outputs=outputs)\n",
    "model.compile(optimizer='adam',\n",
    "              loss='sparse_categorical_crossentropy',\n",
    "              metrics=['accuracy'])\n",
    "\n",
    "model.fit(train_images, train_labels, epochs=5)\n",
    "\n",
    "test_loss, test_acc = model.evaluate(test_images, test_labels)"
   ]
  },
  {
   "cell_type": "code",
   "execution_count": 101,
   "id": "71a1562d-da9e-49fe-8a3a-9fdef50a0f1b",
   "metadata": {
    "tags": []
   },
   "outputs": [
    {
     "name": "stdout",
     "output_type": "stream",
     "text": [
      "mlp :  0.7412999868392944\n",
      "dnn :  0.8765000104904175\n",
      "차이 :  0.14\n"
     ]
    }
   ],
   "source": [
    "print(\"mlp : \", mlp_test_acc)\n",
    "print(\"dnn : \", test_acc)\n",
    "print(\"차이 : \", round(test_acc - mlp_test_acc, 2))"
   ]
  },
  {
   "cell_type": "markdown",
   "id": "a2d7f3f4-67ba-4b50-81a1-3d7ede98b837",
   "metadata": {},
   "source": [
    "기존 fashion.py 코드에서 하이퍼파라미터값만 기존mlp코드값으로 바꿨다  \n",
    "mlp값이 0.14 정도 정확도가 더 낮다."
   ]
  },
  {
   "cell_type": "markdown",
   "id": "9f8fb6c0-cdac-49f9-880a-7a0dbb82205a",
   "metadata": {
    "tags": []
   },
   "source": [
    "힌트를 보니 fashion.py코드에서 하이퍼파라미터값만 바꿔서 계산했더니 기존 코드보다 정확도가 낮아짐"
   ]
  }
 ],
 "metadata": {
  "kernelspec": {
   "display_name": "Python 3 (ipykernel)",
   "language": "python",
   "name": "python3"
  },
  "language_info": {
   "codemirror_mode": {
    "name": "ipython",
    "version": 3
   },
   "file_extension": ".py",
   "mimetype": "text/x-python",
   "name": "python",
   "nbconvert_exporter": "python",
   "pygments_lexer": "ipython3",
   "version": "3.11.5"
  }
 },
 "nbformat": 4,
 "nbformat_minor": 5
}
