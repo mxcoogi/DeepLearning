{
 "cells": [
  {
   "cell_type": "code",
   "execution_count": 158,
   "id": "bab94864-2300-4a9f-941c-1b5176424ea8",
   "metadata": {
    "tags": []
   },
   "outputs": [
    {
     "name": "stdout",
     "output_type": "stream",
     "text": [
      "[[1 1]] [0] [[0.85022742]]\n",
      "W2 :  [[0.3 0.5 0.9]] \n",
      "\n",
      "W2 :  [[0.23236454 0.42347231 0.84102839]] \n",
      "\n",
      "[[1 1]] [0] [[0.7773799]]\n"
     ]
    }
   ],
   "source": [
    "import numpy as np\n",
    "\n",
    "def relu(x):\n",
    "    return np.maximum(0, x)\n",
    "def relu_deriv(x):\n",
    "    return np.where(x > 0, 1, 0)\n",
    "def tanh(x):\n",
    "    return 2 / (1 + np.exp(-2 * x)) - 1\n",
    "\n",
    "def tanh_deriv(x):\n",
    "    return 4 * np.exp(-2 * x) / (1 + np.exp(-2 * x))**2\n",
    "\n",
    "# 입력유닛의 개수, 은닉유닛의 개수, 출력유닛의 개수\n",
    "inputs, hiddens, outputs = 2, 3, 1\n",
    "learning_rate=0.2   \t\t\t# 학습률 변경\n",
    "\n",
    "# 훈련 샘플과 정답\n",
    "X = np.array([[1, 1]])\n",
    "T = np.array([[0]])\n",
    "\n",
    "W1 = np.array([[0.8, 0.4, 0.3], \n",
    "               [0.2, 0.9, 0.5]])\n",
    "W2 = np.array([[0.3], \n",
    "               [0.5], \n",
    "               [0.9]])\n",
    "\n",
    "\n",
    "\n",
    "# 순방향 전파 계산\n",
    "def predict(x):\n",
    "        layer0 = x\t\t\t# 입력을 layer0에 대입한다. \n",
    "        Z1 = np.dot(layer0, W1)\t# 행렬의 곱을 계산한다. \n",
    "        layer1 = tanh(Z1)\t\t# 활성화 함수를 적용한다. \n",
    "        Z2 = np.dot(layer1, W2)\t# 행렬의 곱을 계산한다. \n",
    "        layer2 = relu(Z2)\t\t# 활성화 함수를 적용한다. \n",
    "        return layer0, layer1, layer2\n",
    "\n",
    "# 역방향 전파 계산\n",
    "def fit():\n",
    "    global W1, W2, B1, B2\t\t# 우리는 외부에 정의된 변수를 변경해야 한다. \n",
    "    for i in range(1):\t\t# 9만번 반복한다. \n",
    "        for x, y in zip(X, T):\t\t# 학습 샘플을 하나씩 꺼낸다. \n",
    "            x = np.reshape(x, (1, -1))\t# 2차원 행렬로 만든다. ①\n",
    "            y = np.reshape(y, (1, -1))\t# 2차원 행렬로 만든다. \n",
    "\n",
    "            layer0, layer1, layer2 = predict(x)\t\t\t# 순방향 계산\n",
    "            layer2_error = layer2-y\t\t\t\t# 오차 계산\n",
    "            layer2_delta = layer2_error*relu_deriv(layer2)\t# 출력층의 델타 계산 \n",
    "            layer1_error = np.dot(layer2_delta, W2.T)\t\t# 은닉층의 오차 계산 ②\n",
    "            layer1_delta = layer1_error*relu_deriv(layer1)\t# 은닉층의 델타 계산 ③\n",
    "            \n",
    "            W2 += -learning_rate*np.dot(layer1.T, layer2_delta)\t# ④\n",
    "            W1 += -learning_rate*np.dot(layer0.T, layer1_delta)\t# \n",
    "            print(\"W2 : \", W2.reshape(1, -1), \"\\n\")\n",
    "\n",
    "def test():\n",
    "    for x, y in zip(X, T):\n",
    "        x = np.reshape(x, (1, -1))\t# 하나의 샘플을 꺼내서 2차원 행렬로 만든다. \n",
    "        layer0, layer1, layer2 = predict(x)\n",
    "        print(x, y, layer2)\t\t# 출력층의 값을 출력해본다. \n",
    "        \n",
    "test()\n",
    "print(\"W2 : \", W2.reshape(1, -1), \"\\n\")\n",
    "fit()\n",
    "test()"
   ]
  },
  {
   "cell_type": "code",
   "execution_count": 138,
   "id": "b6d60aa7-23d6-4e8c-a0c2-2b478eea5025",
   "metadata": {
    "tags": []
   },
   "outputs": [],
   "source": [
    "#relu함수\n",
    "def relu(x):\n",
    "    return np.maximum(0, x)\n",
    "def relu_deriv(x):\n",
    "    return np.where(x > 0, 1, 0)\n",
    "\n",
    "#tanh함수0\n",
    "def tanh(x):\n",
    "    return 2 / (1 + np.exp(-2 * x)) - 1\n",
    "\n",
    "def tanh_deriv(x):\n",
    "    return 4 * np.exp(-2 * x) / (1 + np.exp(-2 * x))**2"
   ]
  }
 ],
 "metadata": {
  "kernelspec": {
   "display_name": "Python 3 (ipykernel)",
   "language": "python",
   "name": "python3"
  },
  "language_info": {
   "codemirror_mode": {
    "name": "ipython",
    "version": 3
   },
   "file_extension": ".py",
   "mimetype": "text/x-python",
   "name": "python",
   "nbconvert_exporter": "python",
   "pygments_lexer": "ipython3",
   "version": "3.11.5"
  }
 },
 "nbformat": 4,
 "nbformat_minor": 5
}
